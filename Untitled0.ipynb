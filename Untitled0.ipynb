{
  "nbformat": 4,
  "nbformat_minor": 0,
  "metadata": {
    "colab": {
      "provenance": [],
      "authorship_tag": "ABX9TyNEOYIooi4rhooXHlaL+zHw"
    },
    "kernelspec": {
      "name": "python3",
      "display_name": "Python 3"
    },
    "language_info": {
      "name": "python"
    }
  },
  "cells": [
    {
      "cell_type": "code",
      "source": [
        "import torch\n",
        "from torch import nn\n",
        "import matplotlib.pyplot as plt\n",
        "\n",
        "#known parameters\n",
        "x= 0.5\n",
        "\n",
        "start = 0.1\n",
        "end = 3\n",
        "step = 0.02\n",
        "\n",
        "X = torch.arange(start, end, step).unsqueeze(dim=1)\n",
        "Y = 1 / X\n",
        "\n",
        "X[:10], Y[:10]"
      ],
      "metadata": {
        "id": "ZjiFEnSdyi5L"
      },
      "execution_count": null,
      "outputs": []
    },
    {
      "cell_type": "code",
      "source": [
        "training_values = int(0.8 * len(X))\n",
        "\n",
        "#train\n",
        "x_training_values = X[:training_values]\n",
        "y_training_values = Y[:training_values]\n",
        "\n",
        "#test\n",
        "x_test = X[training_values:]\n",
        "y_test = Y[training_values:]\n",
        "\n",
        "#plot training data\n",
        "plt.figure(figsize=(10,10))\n",
        "plt.scatter(x_training_values, y_training_values, c='r', s=4)\n",
        "\n",
        "#plot test data\n",
        "plt.scatter(x_test,y_test,c='y',s=4)\n",
        "plt.legend(prop={'size': 14})"
      ],
      "metadata": {
        "colab": {
          "base_uri": "https://localhost:8080/",
          "height": 627
        },
        "id": "taarlQ4Y6DDP",
        "outputId": "c7a8b905-b016-4ac8-f7aa-eb0033e0fc3d"
      },
      "execution_count": 23,
      "outputs": [
        {
          "output_type": "stream",
          "name": "stderr",
          "text": [
            "WARNING:matplotlib.legend:No handles with labels found to put in legend.\n"
          ]
        },
        {
          "output_type": "execute_result",
          "data": {
            "text/plain": [
              "<matplotlib.legend.Legend at 0x7facf00efdf0>"
            ]
          },
          "metadata": {},
          "execution_count": 23
        },
        {
          "output_type": "display_data",
          "data": {
            "text/plain": [
              "<Figure size 720x720 with 1 Axes>"
            ],
            "image/png": "[encoded data removed]"
          },
          "metadata": {
            "needs_background": "light"
          }
        }
      ]
    },
    {
      "cell_type": "code",
      "source": [
        "class Model(nn.Module):\n",
        "  def __init__(self):\n",
        "    super().__init__()\n",
        "    self.data = nn.Parameter(torch.randn(1, dtype=torch.float),requires_grad=True)\n",
        "  def forward(self, m: torch.Tensor) -> torch.Tensor:\n",
        "    return 1 / self.data * m"
      ],
      "metadata": {
        "id": "_bZru3Eu73co"
      },
      "execution_count": 56,
      "outputs": []
    },
    {
      "cell_type": "code",
      "source": [
        "x_test"
      ],
      "metadata": {
        "id": "kmzGnv1H9Yo9"
      },
      "execution_count": null,
      "outputs": []
    },
    {
      "cell_type": "code",
      "source": [
        "torch.manual_seed(42)\n",
        "model_function = Model()\n",
        "list(model_function.parameters())"
      ],
      "metadata": {
        "id": "cHs8hyFs8iPN"
      },
      "execution_count": null,
      "outputs": []
    },
    {
      "cell_type": "code",
      "source": [
        "model_function.state_dict()"
      ],
      "metadata": {
        "id": "O5JvejwB9qaZ"
      },
      "execution_count": null,
      "outputs": []
    },
    {
      "cell_type": "code",
      "source": [
        "with torch.inference_mode():\n",
        "  x_guess = model_function(x_test)\n",
        "\n",
        "x_guess"
      ],
      "metadata": {
        "id": "enie4MjV86SG"
      },
      "execution_count": null,
      "outputs": []
    },
    {
      "cell_type": "code",
      "source": [
        "\n",
        "#plot training data\n",
        "plt.figure(figsize=(10,10))\n",
        "plt.scatter(x_training_values, y_training_values, c='r', s=4)\n",
        "\n",
        "#plot test data\n",
        "plt.scatter(x_test,y_test,c='y',s=4)\n",
        "plt.legend(prop={'size': 14})\n",
        "\n",
        "plt.scatter(x_test, x_guess, c='g', s=6)"
      ],
      "metadata": {
        "colab": {
          "base_uri": "https://localhost:8080/",
          "height": 627
        },
        "id": "8I-IV8FI-SUL",
        "outputId": "a644f953-71d8-4f00-ed7b-9b58305ef02e"
      },
      "execution_count": 62,
      "outputs": [
        {
          "output_type": "stream",
          "name": "stderr",
          "text": [
            "WARNING:matplotlib.legend:No handles with labels found to put in legend.\n"
          ]
        },
        {
          "output_type": "execute_result",
          "data": {
            "text/plain": [
              "<matplotlib.collections.PathCollection at 0x7facefe6cbe0>"
            ]
          },
          "metadata": {},
          "execution_count": 62
        },
        {
          "output_type": "display_data",
          "data": {
            "text/plain": [
              "<Figure size 720x720 with 1 Axes>"
            ],
            "image/png": "[encoded data removed]"
          },
          "metadata": {
            "needs_background": "light"
          }
        }
      ]
    },
    {
      "cell_type": "code",
      "source": [
        "loss_function = nn.L1Loss()\n",
        "optimizer = torch.optim.SGD(params=model_function.parameters(),lr=0.01)\n",
        "with torch.inference_mode():\n",
        "  list(model_function.parameters())\n",
        "\n",
        "epochs = 100\n",
        "\n",
        "how_much_epochs = []\n",
        "loss = []\n",
        "test_loss = []\n",
        "\n",
        "for epoch in range(epochs):\n",
        "\n",
        "  model_function.train()\n",
        "  x_guess = model_function(x_training_values)\n",
        "  model_function.eval()\n",
        "  loss = loss_function(x_guess, y_training_values)\n",
        "  optimizer.zero_grad()\n",
        "  loss.backward()\n",
        "  optimizer.step()\n",
        "\n",
        "  model_function.eval()\n",
        "  with torch.inference_mode():\n",
        "    test_pred = model_function(x_test)\n",
        "    test_loss = loss_function(test_pred,y_test)"
      ],
      "metadata": {
        "id": "04yyWYXjBgka"
      },
      "execution_count": 68,
      "outputs": []
    },
    {
      "cell_type": "code",
      "source": [
        "with torch.inference_mode():\n",
        "  y_our_goal = model_function(x_test)"
      ],
      "metadata": {
        "id": "bu0TmAfWEGR4"
      },
      "execution_count": 69,
      "outputs": []
    },
    {
      "cell_type": "code",
      "source": [
        "#plot training data\n",
        "plt.figure(figsize=(10,10))\n",
        "plt.scatter(x_training_values, y_training_values, c='r', s=4)\n",
        "\n",
        "#plot test data\n",
        "plt.scatter(x_test,y_test,c='y',s=4)\n",
        "plt.legend(prop={'size': 14})\n",
        "\n",
        "plt.scatter(x_test, y_our_goal, c='g', s=6)"
      ],
      "metadata": {
        "colab": {
          "base_uri": "https://localhost:8080/",
          "height": 627
        },
        "id": "ZO4FbSLlD0T5",
        "outputId": "09464688-7fa8-4850-b170-2b9f4c0e8c6f"
      },
      "execution_count": 70,
      "outputs": [
        {
          "output_type": "stream",
          "name": "stderr",
          "text": [
            "WARNING:matplotlib.legend:No handles with labels found to put in legend.\n"
          ]
        },
        {
          "output_type": "execute_result",
          "data": {
            "text/plain": [
              "<matplotlib.collections.PathCollection at 0x7facefcffa60>"
            ]
          },
          "metadata": {},
          "execution_count": 70
        },
        {
          "output_type": "display_data",
          "data": {
            "text/plain": [
              "<Figure size 720x720 with 1 Axes>"
            ],
            "image/png": "[encoded data removed]"
          },
          "metadata": {
            "needs_background": "light"
          }
        }
      ]
    }
  ]
}